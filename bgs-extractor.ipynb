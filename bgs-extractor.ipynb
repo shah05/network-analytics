{
 "cells": [
  {
   "cell_type": "code",
   "execution_count": 6,
   "metadata": {},
   "outputs": [],
   "source": [
    "import pandas as pd\n",
    "import glob\n",
    "import time"
   ]
  },
  {
   "cell_type": "code",
   "execution_count": 7,
   "metadata": {},
   "outputs": [],
   "source": [
    "#Script settings\n",
    "\n",
    "#Set input file directory\n",
    "bgs_input_directory = \"data/BGS/\"\n",
    "\n",
    "#Set output file names\n",
    "unifi_output = \"output/bgs_unifi_20220213.csv\"\n",
    "celcom_output = \"output/bgs_celcom_20220213.csv\"\n",
    "maxis_output = \"output/bgs_maxis_20220213.csv\"\n",
    "digi_output = \"output/bgs_digi_20220213.csv\"\n",
    "umobile_output = \"output/bgs_umobile_20220213.csv\""
   ]
  },
  {
   "cell_type": "code",
   "execution_count": 8,
   "metadata": {},
   "outputs": [
    {
     "name": "stdout",
     "output_type": "stream",
     "text": [
      "1644736305.015679\n",
      "data/BGS/android_bg_v2_2022-01-02.csv completed\n",
      "data/BGS/android_bg_v2_2022-01-03.csv completed\n",
      "data/BGS/android_bg_v2_2022-01-01.csv completed\n",
      "Runtime of the program is 152.73223090171814\n"
     ]
    }
   ],
   "source": [
    "#Function to extract BGS data\n",
    "def extract_bgs_data(bgs_filename:str):\n",
    "    df = pd.read_csv(bgs_filename,usecols=cols, low_memory=False)\n",
    "    df = df[df['network_operator_mcc_code'] == 502]\n",
    "    df = df[df['network_operator_name'].notna()]\n",
    "    df = df[df['rsrp'].notna()]\n",
    "    return df\n",
    "\n",
    "#Define column name which script can read and exlude others (Faster processing time)\n",
    "cols = ['network_operator_mcc_code', 'network_operator_name', 'rsrp']\n",
    "\n",
    "#Get list of input BGS files from given directory\n",
    "bgs_input_files = glob.glob(bgs_input_directory+\"*.csv\")\n",
    "\n",
    "##Script execution\n",
    "\n",
    "# starting time\n",
    "start = time.time()\n",
    "print(start)\n",
    "df = pd.DataFrame()\n",
    "frames = []\n",
    "for file in bgs_input_files:\n",
    "    temp_df = extract_bgs_data(file)\n",
    "    frames.append(temp_df)\n",
    "    print(file + ' completed')\n",
    "    \n",
    "result = pd.concat(frames)\n",
    "# end time\n",
    "end = time.time()\n",
    "print(f\"Runtime of the program is {end - start}\")"
   ]
  },
  {
   "cell_type": "code",
   "execution_count": 9,
   "metadata": {},
   "outputs": [],
   "source": [
    "#export processed data to output file per operator\n",
    "unifi = result[result['network_operator_name'] == 'Unifi']\n",
    "celcom = result[result['network_operator_name'] == 'Celcom']\n",
    "maxis = result[result['network_operator_name'] == 'Maxis']\n",
    "digi = result[result['network_operator_name'] == 'Digi']\n",
    "umobile = result[result['network_operator_name'] == 'U Mobile']"
   ]
  },
  {
   "cell_type": "code",
   "execution_count": 10,
   "metadata": {},
   "outputs": [],
   "source": [
    "#save output file in csv format\n",
    "unifi.to_csv(unifi_output)\n",
    "celcom.to_csv(celcom_output)\n",
    "maxis.to_csv(maxis_output)\n",
    "digi.to_csv(digi_output)\n",
    "umobile.to_csv(umobile_output)"
   ]
  }
 ],
 "metadata": {
  "kernelspec": {
   "display_name": "Python 3",
   "language": "python",
   "name": "python3"
  },
  "language_info": {
   "codemirror_mode": {
    "name": "ipython",
    "version": 3
   },
   "file_extension": ".py",
   "mimetype": "text/x-python",
   "name": "python",
   "nbconvert_exporter": "python",
   "pygments_lexer": "ipython3",
   "version": "3.8.5"
  }
 },
 "nbformat": 4,
 "nbformat_minor": 4
}
