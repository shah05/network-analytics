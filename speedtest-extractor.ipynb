{
 "cells": [
  {
   "cell_type": "code",
   "execution_count": 17,
   "metadata": {},
   "outputs": [],
   "source": [
    "import pandas as pd\n",
    "import glob\n",
    "import time"
   ]
  },
  {
   "cell_type": "code",
   "execution_count": 18,
   "metadata": {},
   "outputs": [],
   "source": [
    "#Script settings\n",
    "\n",
    "#Set input file directory\n",
    "speedtest_input_directory = \"data/Speedtest/\"\n",
    "\n",
    "#Set output file names\n",
    "unifi_output = \"output/speedtest_unifi_20220213.csv\"\n",
    "celcom_output = \"output/speedtest_celcom_20220213.csv\"\n",
    "maxis_output = \"output/speedtest_maxis_20220213.csv\"\n",
    "digi_output = \"output/speedtest_digi_20220213.csv\"\n",
    "umobile_output = \"output/speedtest_umobile_20220213.csv\""
   ]
  },
  {
   "cell_type": "code",
   "execution_count": 19,
   "metadata": {},
   "outputs": [
    {
     "name": "stdout",
     "output_type": "stream",
     "text": [
      "1644736161.626739\n",
      "data/Speedtest/android_2022-01-02.csv completed\n",
      "data/Speedtest/android_2022-01-03.csv completed\n",
      "data/Speedtest/android_2022-01-01.csv completed\n",
      "Runtime of the program is 2.5388379096984863\n"
     ]
    }
   ],
   "source": [
    "#Function to extract Speedtest data\n",
    "def extract_speedtest_data(speedtest_filename:str):\n",
    "    df = pd.read_csv(speedtest_filename,usecols=cols, low_memory=False)\n",
    "    df = df[df['mcc'] == 502]\n",
    "    df = df[df['network_operator_name'].notna()]\n",
    "    df = df[df['rsrp_a'].notna()]\n",
    "    df = df[(df['pre_connection_type'] == 15) | (df['post_connection_type'] == 21)]\n",
    "    df = df[(df['post_connection_type'] == 15) | (df['post_connection_type'] == 21)]\n",
    "    return df\n",
    "\n",
    "#Define column name which script can read and exlude others (Faster processing time)\n",
    "cols = ['mcc', 'network_operator_name', 'rsrp_a', 'pre_connection_type', 'post_connection_type']\n",
    "\n",
    "#Get list of input BGS files from given directory\n",
    "speedtest_input_files = glob.glob(speedtest_input_directory+\"*.csv\")\n",
    "\n",
    "##Script execution\n",
    "\n",
    "# starting time\n",
    "start = time.time()\n",
    "print(start)\n",
    "df = pd.DataFrame()\n",
    "frames = []\n",
    "for file in speedtest_input_files:\n",
    "    temp_df = extract_speedtest_data(file)\n",
    "    frames.append(temp_df)\n",
    "    print(file + ' completed')\n",
    "    \n",
    "result = pd.concat(frames)\n",
    "# end time\n",
    "end = time.time()\n",
    "print(f\"Runtime of the program is {end - start}\")"
   ]
  },
  {
   "cell_type": "code",
   "execution_count": 20,
   "metadata": {},
   "outputs": [],
   "source": [
    "#export processed data to output file per operator\n",
    "unifi = result[result['network_operator_name'] == 'Unifi']\n",
    "celcom = result[result['network_operator_name'] == 'Celcom']\n",
    "maxis = result[result['network_operator_name'] == 'Maxis']\n",
    "digi = result[result['network_operator_name'] == 'Digi']\n",
    "umobile = result[result['network_operator_name'] == 'U Mobile']"
   ]
  },
  {
   "cell_type": "code",
   "execution_count": 21,
   "metadata": {},
   "outputs": [],
   "source": [
    "#save output file in csv format\n",
    "unifi.to_csv(unifi_output)\n",
    "celcom.to_csv(celcom_output)\n",
    "maxis.to_csv(maxis_output)\n",
    "digi.to_csv(digi_output)\n",
    "umobile.to_csv(umobile_output)"
   ]
  },
  {
   "cell_type": "code",
   "execution_count": null,
   "metadata": {},
   "outputs": [],
   "source": []
  }
 ],
 "metadata": {
  "kernelspec": {
   "display_name": "Python 3",
   "language": "python",
   "name": "python3"
  },
  "language_info": {
   "codemirror_mode": {
    "name": "ipython",
    "version": 3
   },
   "file_extension": ".py",
   "mimetype": "text/x-python",
   "name": "python",
   "nbconvert_exporter": "python",
   "pygments_lexer": "ipython3",
   "version": "3.8.5"
  }
 },
 "nbformat": 4,
 "nbformat_minor": 4
}
